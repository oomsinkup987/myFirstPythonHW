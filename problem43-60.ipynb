{
 "metadata": {
  "language_info": {
   "codemirror_mode": {
    "name": "ipython",
    "version": 3
   },
   "file_extension": ".py",
   "mimetype": "text/x-python",
   "name": "python",
   "nbconvert_exporter": "python",
   "pygments_lexer": "ipython3",
   "version": "3.6.8-final"
  },
  "orig_nbformat": 2,
  "kernelspec": {
   "name": "Python 3.6.8 64-bit",
   "display_name": "Python 3.6.8 64-bit",
   "metadata": {
    "interpreter": {
     "hash": "05ece30799c2dcdac4c13b3af20453da19de8df0d9a1de52cff7e0b6e1e82bdd"
    }
   }
  }
 },
 "nbformat": 4,
 "nbformat_minor": 2,
 "cells": [
  {
   "cell_type": "code",
   "execution_count": null,
   "metadata": {},
   "outputs": [],
   "source": [
    "# Problem 43: Provide an implementation for zip function using list comprehensions.\n",
    "\n",
    "def izip(a,b):\n",
    "    return [[a[i],b[i]] for i in range(len(a))]\n",
    "\n",
    "izip([1, 2, 3], [\"a\", \"b\", \"c\"])"
   ]
  },
  {
   "cell_type": "code",
   "execution_count": 1,
   "metadata": {},
   "outputs": [
    {
     "output_type": "execute_result",
     "data": {
      "text/plain": [
       "[0, 1, 4, 9, 16]"
      ]
     },
     "metadata": {},
     "execution_count": 1
    }
   ],
   "source": [
    "# Problem 44: Python provides a built-in function map that applies a function to each element of a list. Provide an implementation for map using list comprehensions.\n",
    "\n",
    "def myMap(f,l):\n",
    "    return [f(i) for i in l]\n",
    "\n",
    "def square1(x): return x * x\n",
    "\n",
    "myMap(square1, range(5))   # [0, 1, 4, 9, 16]"
   ]
  },
  {
   "cell_type": "code",
   "execution_count": 2,
   "metadata": {},
   "outputs": [
    {
     "output_type": "execute_result",
     "data": {
      "text/plain": [
       "[0, 2, 4, 6, 8]"
      ]
     },
     "metadata": {},
     "execution_count": 2
    }
   ],
   "source": [
    "# Problem 45: Python provides a built-in function filter(f, a) that returns items of the list a for which f(item) returns true. Provide an implementation for filter using list comprehensions.\n",
    "\n",
    "def filter1(f,l):\n",
    "    return [e for e in l if f(e)]\n",
    "\n",
    "def even1(x): return x %2 == 0\n",
    "filter1(even1, range(10))"
   ]
  },
  {
   "cell_type": "code",
   "execution_count": 4,
   "metadata": {},
   "outputs": [
    {
     "output_type": "execute_result",
     "data": {
      "text/plain": [
       "[(1, 1, 2), (1, 2, 3), (1, 3, 4), (1, 4, 5), (2, 2, 4), (2, 3, 5)]"
      ]
     },
     "metadata": {},
     "execution_count": 4
    }
   ],
   "source": [
    "# Problem 46: Write a function triplets that takes a number n as argument and returns a list of triplets such that sum of first two elements of the triplet equals the third element using numbers below n. Please note that (a, b, c)and(b, a, c)represent same triplet.\n",
    "\n",
    "def triplets(n):\n",
    "    return [(x,y,z) for x in range(1,n) for y in range(x,n) for z in range(y,n) if x+y==z]\n",
    "\n",
    "\n",
    "triplets(6)\n",
    "# [(1, 1, 2), (1, 2, 3), (1, 3, 4), (2, 2, 4)]"
   ]
  },
  {
   "cell_type": "code",
   "execution_count": 5,
   "metadata": {},
   "outputs": [
    {
     "output_type": "stream",
     "name": "stdout",
     "text": [
      "0 a\n1 b\n2 c\n"
     ]
    }
   ],
   "source": [
    "# Problem 47: Write a function enumerate that takes a list and returns a list of tuples containing (index,item) for each item in the list.\n",
    "\n",
    "# enumerate([\"a\", \"b\", \"c\"])\n",
    "# for index, value in enumerate([\"a\", \"b\", \"c\"]):\n",
    "#     print( index, value)\n",
    "\n",
    "def myEnumerate(l):\n",
    "    return [(i,l[i]) for i in range(len(l))]\n",
    "\n",
    "\n",
    "myEnumerate([\"a\", \"b\", \"c\"])\n",
    "\n",
    "for index, value in myEnumerate([\"a\", \"b\", \"c\"]):\n",
    "    print( index, value)"
   ]
  },
  {
   "cell_type": "code",
   "execution_count": 8,
   "metadata": {},
   "outputs": [
    {
     "output_type": "execute_result",
     "data": {
      "text/plain": [
       "[[5, None, None], [None, None, None], [None, None, None], [None, None, None]]"
      ]
     },
     "metadata": {},
     "execution_count": 8
    }
   ],
   "source": [
    "# Problem 48: Write a function array to create an 2-dimensional array. The function should take both dimensions as arguments. Value of each element can be initialized to None:\n",
    "\n",
    "def array(x,y):\n",
    "    return [[None]*y for i in range(x)]\n",
    "\n",
    "a = array(4, 3)\n",
    "a\n",
    "a[0][0] = 5\n",
    "a"
   ]
  },
  {
   "cell_type": "code",
   "execution_count": 10,
   "metadata": {},
   "outputs": [
    {
     "output_type": "execute_result",
     "data": {
      "text/plain": [
       "[['a', 'b', 'c'], ['1', '2', '3'], ['2', '3', '4'], ['3', '4', '5']]"
      ]
     },
     "metadata": {},
     "execution_count": 10
    }
   ],
   "source": [
    "# Problem 49: Write a python function parse_csv to parse csv (comma separated values) files.\n",
    "\n",
    "# print (open('a.csv').read())\n",
    "\n",
    "def parse_csv(f):\n",
    "    lines = open(f).readlines()\n",
    "    return [[i for i in e.strip().split(',')] for e in lines]\n",
    "\n",
    "parse_csv('a.csv')"
   ]
  },
  {
   "cell_type": "code",
   "execution_count": 9,
   "metadata": {},
   "outputs": [
    {
     "output_type": "stream",
     "name": "stdout",
     "text": [
      "a,b,c\n1,2,3\n2,3,4\n3,4,5\n"
     ]
    }
   ],
   "source": [
    "print (open('a.csv').read())"
   ]
  },
  {
   "cell_type": "code",
   "execution_count": 11,
   "metadata": {},
   "outputs": [
    {
     "output_type": "execute_result",
     "data": {
      "text/plain": [
       "[['a', 'b', 'c'], ['1', '2', '3'], ['2', '3', '4'], ['3', '4', '5']]"
      ]
     },
     "metadata": {},
     "execution_count": 11
    }
   ],
   "source": [
    "# Problem 50: Generalize the above implementation of csv parser to support any delimiter and comments.\n",
    "\n",
    "def parse(f,s,c):\n",
    "    lines = open(f).readlines()\n",
    "    return [ e.split(c)[0].strip().split(s) for e in lines]\n",
    "\n",
    "parse('a.txt', '!', '#')"
   ]
  },
  {
   "cell_type": "code",
   "execution_count": null,
   "metadata": {},
   "outputs": [],
   "source": []
  },
  {
   "cell_type": "code",
   "execution_count": 172,
   "metadata": {},
   "outputs": [
    {
     "output_type": "execute_result",
     "data": {
      "text/plain": [
       "[['a', 'b', 'c'], ['1', '2', '3'], ['2', '3', '4'], ['3', '4', '5']]"
      ]
     },
     "metadata": {},
     "execution_count": 172
    }
   ],
   "source": [
    "# Problem 50: Generalize the above implementation of csv parser to support any delimiter and comments.\n",
    "\n",
    "def parse(f,s,c):\n",
    "    return [ e.split(c)[0].strip().split(s) for e in open(f).readlines()]\n",
    "\n",
    "parse('a.txt', '!', '#')"
   ]
  },
  {
   "cell_type": "code",
   "execution_count": 34,
   "metadata": {},
   "outputs": [
    {
     "output_type": "stream",
     "name": "stdout",
     "text": [
      "284\nTrue\nTrue\nTrue\n"
     ]
    }
   ],
   "source": [
    "# Problem 51: Write a function mutate to compute all words generated by a single mutation on a given word. A mutation is defined as inserting a character, deleting a character, replacing a character, or swapping 2 consecutive characters in a string. For simplicity consider only letters from a to z.\n",
    "\n",
    "def mutate(s):\n",
    "\n",
    "    # import string\n",
    "    # az = string.ascii_lowercase[:26]\n",
    "    \n",
    "    az = 'abcdefghijklmnopqrstuvwxyz'\n",
    "\n",
    "    # A mutation is defined as inserting a character,\n",
    "    a = [ s[:pos]+e+s[pos:] for pos in range(len(s)+1) for e in az]\n",
    "\n",
    "    # deleting a character,\n",
    "    b = [ s[:pos] + s[(pos+1):] for pos in range(len(s)) ]\n",
    "\n",
    "    # replacing a character,\n",
    "    c = [ s[:pos]+e+s[pos+1:] for pos in range(len(s)) for e in az]\n",
    "\n",
    "    # swapping 2 consecutive characters in a string.\n",
    "    d =   [ s[:x]+s[x:x+2][::-1]+s[x+2:] for x in range(0, len(s)-1) ]\n",
    "\n",
    "    return list(set(a+b+c+d))\n",
    "\n",
    "words = mutate('hello')\n",
    "print(len(words))\n",
    "print('helo' in words)\n",
    "print('cello' in words)\n",
    "print('helol' in words)"
   ]
  },
  {
   "cell_type": "code",
   "execution_count": 35,
   "metadata": {},
   "outputs": [
    {
     "output_type": "stream",
     "name": "stdout",
     "text": [
      "284\nTrue\nTrue\nTrue\n"
     ]
    }
   ],
   "source": [
    "# Problem 51: Write a function mutate to compute all words generated by a single mutation on a given word. A mutation is defined as inserting a character, deleting a character, replacing a character, or swapping 2 consecutive characters in a string. For simplicity consider only letters from a to z.\n",
    "\n",
    "def mutate(s):\n",
    "    az = 'abcdefghijklmnopqrstuvwxyz'\n",
    "    a = [ s[:pos]+e+s[pos:] for pos in range(len(s)+1) for e in az]\n",
    "    b = [ s[:pos] + s[(pos+1):] for pos in range(len(s)) ]\n",
    "    c = [ s[:pos]+e+s[pos+1:] for pos in range(len(s)) for e in az]\n",
    "    d = [ s[:x]+s[x:x+2][::-1]+s[x+2:] for x in range(0, len(s)-1) ]\n",
    "    return list(set(a+b+c+d))\n",
    "\n",
    "words = mutate('hello')\n",
    "print(len(words))\n",
    "print('helo' in words)\n",
    "print('cello' in words)\n",
    "print('helol' in words)"
   ]
  },
  {
   "cell_type": "code",
   "execution_count": 38,
   "metadata": {},
   "outputs": [
    {
     "output_type": "stream",
     "name": "stdout",
     "text": [
      "False\nTrue\nTrue\nFalse\n"
     ]
    }
   ],
   "source": [
    "# Problem 52: Write a function nearly_equal to test whether two strings are nearly equal. Two strings a and b are nearly equal when a can be generated by a single mutation on b.\n",
    "\n",
    "def nearly_equal(a,b):\n",
    "    return a in mutate(b)\n",
    "\n",
    "print( nearly_equal('python', 'perl') )\n",
    "print( nearly_equal('perl', 'pearl') )\n",
    "print( nearly_equal('python', 'jython') )\n",
    "print( nearly_equal('man', 'woman') )\n",
    "\n",
    "# >>> nearly_equal('python', 'perl') False\n",
    "# >>> nearly_equal('perl', 'pearl') True\n",
    "# >>> nearly_equal('python', 'jython') True\n",
    "# >>> nearly_equal('man', 'woman') False"
   ]
  },
  {
   "cell_type": "code",
   "execution_count": null,
   "metadata": {},
   "outputs": [],
   "source": []
  },
  {
   "cell_type": "code",
   "execution_count": 40,
   "metadata": {},
   "outputs": [
    {
     "output_type": "stream",
     "name": "stdout",
     "text": [
      "She 1\nsells 3\nseashells 3\non 2\nthe 3\nseashore; 1\nThe 1\nshells 2\nthat 2\nshe 2\nare 2\nI'm 2\nsure. 1\nSo 1\nif 1\nseashore, 1\nsure 1\nseashore 1\nshells. 1\n"
     ]
    }
   ],
   "source": [
    "def word_frequency(words):\n",
    "    \"\"\"Returns frequency of each word given a list of words.\n",
    "\n",
    "        >>> word_frequency(['a', 'b', 'a'])\n",
    "        {'a': 2, 'b': 1}\n",
    "    \"\"\"\n",
    "    frequency = {}\n",
    "    for w in words:\n",
    "        frequency[w] = frequency.get(w, 0) + 1\n",
    "    return frequency\n",
    "\n",
    "def read_words(filename):\n",
    "    return open(filename).read().split()\n",
    "\n",
    "def main(filename):\n",
    "    frequency = word_frequency(read_words(filename))\n",
    "    for word, count in frequency.items():\n",
    "        print(word, count)\n",
    "\n",
    "# if __name__ == \"__main__\":\n",
    "#     import sys\n",
    "#     main(sys.argv[1])\n",
    "\n",
    "main('she.txt')"
   ]
  },
  {
   "cell_type": "code",
   "execution_count": 42,
   "metadata": {},
   "outputs": [
    {
     "output_type": "stream",
     "name": "stdout",
     "text": [
      "She 1\nseashore; 1\nThe 1\nsure. 1\nSo 1\nif 1\nseashore, 1\nsure 1\nseashore 1\nshells. 1\non 2\nshells 2\nthat 2\nshe 2\nare 2\nI'm 2\nsells 3\nseashells 3\nthe 3\n"
     ]
    }
   ],
   "source": [
    "# Problem 53: Improve the above program to print the words in the descending order of the number of occurrences.\n",
    "\n",
    "def word_frequency(words):\n",
    "    \"\"\"Returns frequency of each word given a list of words.\n",
    "\n",
    "        >>> word_frequency(['a', 'b', 'a'])\n",
    "        {'a': 2, 'b': 1}\n",
    "    \"\"\"\n",
    "    frequency = {}\n",
    "    for w in words:\n",
    "        frequency[w] = frequency.get(w, 0) + 1\n",
    "    return frequency\n",
    "\n",
    "def read_words(filename):\n",
    "    return open(filename).read().split()\n",
    "\n",
    "def main(filename):\n",
    "    frequency = word_frequency(read_words(filename))\n",
    "    frequency = {k: v for k, v in sorted(frequency.items(), key=lambda item: item[1], reverse=True)}\n",
    "    for word, count in frequency.items():\n",
    "        print(word, count)\n",
    "\n",
    "# if __name__ == \"__main__\":\n",
    "#     import sys\n",
    "#     main(sys.argv[1])\n",
    "\n",
    "main('she.txt')"
   ]
  },
  {
   "cell_type": "code",
   "execution_count": 45,
   "metadata": {},
   "outputs": [
    {
     "output_type": "stream",
     "name": "stdout",
     "text": [
      "sells 3\nseashells 3\nthe 3\non 2\nshells 2\nthat 2\nshe 2\nare 2\nI'm 2\nShe 1\nseashore; 1\nThe 1\nsure. 1\nSo 1\nif 1\nseashore, 1\nsure 1\nseashore 1\nshells. 1\n"
     ]
    }
   ],
   "source": [
    "# Problem 53: Improve the above program to print the words in the descending order of the number of occurrences.\n",
    "\n",
    "def word_frequency(words):\n",
    "    \"\"\"Returns frequency of each word given a list of words.\n",
    "\n",
    "        >>> word_frequency(['a', 'b', 'a'])\n",
    "        {'a': 2, 'b': 1}\n",
    "    \"\"\"\n",
    "    frequency = {}\n",
    "    for w in words:\n",
    "        frequency[w] = frequency.get(w, 0) + 1\n",
    "    return frequency\n",
    "\n",
    "def read_words(filename):\n",
    "    return open(filename).read().split()\n",
    "\n",
    "def main(filename):\n",
    "    frequency = word_frequency(read_words(filename))\n",
    "    list1 = sorted(frequency.items(), key=lambda item: item[1], reverse=True)\n",
    "    for word, count in list1:\n",
    "        print(word, count)\n",
    "\n",
    "# if __name__ == \"__main__\":\n",
    "#     import sys\n",
    "#     main(sys.argv[1])\n",
    "\n",
    "main('she.txt')"
   ]
  },
  {
   "cell_type": "code",
   "execution_count": null,
   "metadata": {},
   "outputs": [],
   "source": []
  },
  {
   "cell_type": "code",
   "execution_count": 56,
   "metadata": {},
   "outputs": [
    {
     "output_type": "stream",
     "name": "stdout",
     "text": [
      "Text file\nC program file\nPython program file\nText file\nPython program file\nPython program file\n"
     ]
    }
   ],
   "source": [
    "# Problem 54: Write a program to count frequency of characters in a given file. Can you use character frequency to tell whether the given file is a Python program file, C program file or a text file?\n",
    "\n",
    "def char_frequency(words):\n",
    "    frequency = {}\n",
    "    for w in words:\n",
    "        for c in w:\n",
    "            frequency[c] = frequency.get(c, 0) + 1\n",
    "    return frequency\n",
    "\n",
    "def read_words(filename):\n",
    "    return open(filename).read().split()\n",
    "\n",
    "def checkFile(filename):\n",
    "    frequency = char_frequency(read_words(filename))\n",
    "\n",
    "    nCL = frequency.get(':', 0)\n",
    "    nSC = frequency.get(';', 0)\n",
    "    nSB = frequency.get('[', 0)\n",
    "    \n",
    "    if nCL > 0 and nCL > nSC or nSB > 0:\n",
    "        print('Python program file')\n",
    "    elif nSC > 0 and nSC > nCL :\n",
    "        print('C program file')\n",
    "    else:\n",
    "        print('Text file')\n",
    "\n",
    "checkFile('a.txt')\n",
    "checkFile('she.txt')\n",
    "checkFile('wrap.py')\n",
    "checkFile('a.csv')\n",
    "checkFile('add.py')\n",
    "checkFile('grep.py')"
   ]
  },
  {
   "cell_type": "code",
   "execution_count": 61,
   "metadata": {},
   "outputs": [
    {
     "output_type": "execute_result",
     "data": {
      "text/plain": [
       "[['eat', 'ate', 'tea'], ['done', 'node'], ['soup']]"
      ]
     },
     "metadata": {},
     "execution_count": 61
    }
   ],
   "source": [
    "# Problem 55: Write a program to find anagrams in a given list of words. Two words are called anagrams if one word can be formed by rearranging letters of another. For example ‘eat’, ‘ate’ and ‘tea’ are anagrams.\n",
    "\n",
    "def anagrams(inList):\n",
    "    res = dict()\n",
    "    for e in inList:\n",
    "        for k,v in res.items():\n",
    "            if {i for i in e} == {i for i in k} :\n",
    "                res[k] += [e]\n",
    "                break\n",
    "        else : \n",
    "            res[e] = [e]\n",
    "    return [v for k,v in res.items()]\n",
    "\n",
    "anagrams(['eat', 'ate', 'done', 'tea', 'soup', 'node'])\n",
    "# [['eat', 'ate', 'tea], ['done', 'node'], ['soup']]"
   ]
  },
  {
   "cell_type": "code",
   "execution_count": 59,
   "metadata": {},
   "outputs": [
    {
     "output_type": "execute_result",
     "data": {
      "text/plain": [
       "False"
      ]
     },
     "metadata": {},
     "execution_count": 59
    }
   ],
   "source": [
    "e,k = 'ate','teb'\n",
    "{i for i in e} == {i for i in k}"
   ]
  },
  {
   "cell_type": "code",
   "execution_count": 63,
   "metadata": {},
   "outputs": [
    {
     "output_type": "execute_result",
     "data": {
      "text/plain": [
       "[3, 1, 2]"
      ]
     },
     "metadata": {},
     "execution_count": 63
    }
   ],
   "source": [
    "# Problem 56: Write a function valuesort to sort values of a dictionary based on the key.\n",
    "\n",
    "# valuesort({'x': 1, 'y': 2, 'a': 3})\n",
    "\n",
    "def valuesort(d):\n",
    "    return([i for e,i in list(sorted(d.items()))])\n",
    "\n",
    "valuesort({'x': 1, 'y': 2, 'a': 3})  \n",
    "\n",
    "# [3, 1, 2]"
   ]
  },
  {
   "cell_type": "code",
   "execution_count": 64,
   "metadata": {},
   "outputs": [
    {
     "output_type": "execute_result",
     "data": {
      "text/plain": [
       "{1: 'x', 2: 'y', 3: 'z'}"
      ]
     },
     "metadata": {},
     "execution_count": 64
    }
   ],
   "source": [
    "# Problem 57: Write a function invertdict to interchange keys and values in a dictionary. For simplicity, assume that all values are unique.\n",
    "\n",
    "def invertdict(d):\n",
    "    r = {}\n",
    "    for k,v in d.items():\n",
    "        r[v] = k\n",
    "    return r\n",
    "\n",
    "\n",
    "invertdict({'x': 1, 'y': 2, 'z': 3}) \n",
    "# {1: 'x', 2: 'y', 3: 'z'}"
   ]
  },
  {
   "cell_type": "code",
   "execution_count": 8,
   "metadata": {},
   "outputs": [
    {
     "output_type": "execute_result",
     "data": {
      "text/plain": [
       "{1: 'x', 2: 'y', 3: 'z'}"
      ]
     },
     "metadata": {},
     "execution_count": 8
    }
   ],
   "source": [
    "# Problem 57: Write a function invertdict to interchange keys and values in a dictionary. For simplicity, assume that all values are unique.\n",
    "\n",
    "def invertdict(d):\n",
    "    return {v: k for k, v in d.items()}\n",
    "\n",
    "invertdict({'x': 1, 'y': 2, 'z': 3}) \n",
    "# {1: 'x', 2: 'y', 3: 'z'}"
   ]
  },
  {
   "cell_type": "code",
   "execution_count": 37,
   "metadata": {},
   "outputs": [
    {
     "output_type": "execute_result",
     "data": {
      "text/plain": [
       "[2, 'y', 3, 'z']"
      ]
     },
     "metadata": {},
     "execution_count": 37
    }
   ],
   "source": [
    "d = {'x': 1, 'y': 2, 'z': 3}\n",
    "# d = [ e for [k,v] in d.items() for e in [v,k]]\n",
    "d = {v: k for k, v in d.items()}\n",
    "d"
   ]
  },
  {
   "cell_type": "code",
   "execution_count": 68,
   "metadata": {},
   "outputs": [
    {
     "output_type": "stream",
     "name": "stdout",
     "text": [
      "./a.csv\n./problem83-95.ipynb\n./.DS_Store\n./problem61-70.ipynb\n./add.py\n./reverse.py\n./problem01-10.ipynb\n./important\n./grep.py\n./problem31-42.ipynb\n./problem43-60.ipynb\n./python-practice-book.pdf\n./OtherTip.ipynb\n./a.txt\n./extcount.py\n./problem11-20.ipynb\n./she.txt\n./wordwrap.py\n./problem71-82.ipynb\n./wrap.py\n./echo.py\n./problem21-30.ipynb\n./center_align.py\n./.ipynb_checkpoints/Untitled-checkpoint.ipynb\n./.ipynb_checkpoints/problem11-20-checkpoint.ipynb\n"
     ]
    }
   ],
   "source": [
    "# Problem 58: Write a program to list all files in the given directory.\n",
    "\n",
    "import os\n",
    "\n",
    "for currentpath, folders, files in os.walk('.'):\n",
    "    for file in files:\n",
    "        print(os.path.join(currentpath, file))\n"
   ]
  },
  {
   "cell_type": "code",
   "execution_count": null,
   "metadata": {},
   "outputs": [],
   "source": [
    "# Problem 58: Write a program to list all files in the given directory.\n",
    "\n",
    "import os\n",
    "\n",
    "for r, d, f in os.walk('.'):\n",
    "    for file in f:\n",
    "        print(os.path.join(r, file))"
   ]
  },
  {
   "cell_type": "code",
   "execution_count": null,
   "metadata": {},
   "outputs": [],
   "source": [
    "# Problem 58: Write a program to list all files in the given directory.\n",
    "\n",
    "import os\n",
    " \n",
    "for f in os.listdir('.'):\n",
    "\tprint(f)"
   ]
  },
  {
   "cell_type": "code",
   "execution_count": 71,
   "metadata": {},
   "outputs": [
    {
     "output_type": "stream",
     "name": "stdout",
     "text": [
      "9 ipynb\n8 py\n2 txt\n1 csv\n1 DS_Store\n1 important\n1 pdf\n1 ipynb_checkpoints\n"
     ]
    }
   ],
   "source": [
    "# Problem 59: Write a program extcount.py to count number of files for each extension in the given directory. The program should take a directory name as argument and print count and extension for each available file extension.\n",
    "\n",
    "'''\n",
    "$ python extcount.py src/ 14 py\n",
    "4 txt\n",
    "1 csv\n",
    "'''\n",
    "\n",
    "# extcount.py\n",
    "\n",
    "import sys\n",
    "import os\n",
    "# path = sys.argv[1]\n",
    "path = '.'\n",
    "files = []\n",
    "for f in os.listdir(path):\n",
    "    files.append(f)\n",
    "ext = [e.split('.')[-1] for e in files]\n",
    "# print(ext)\n",
    "frequency = {}\n",
    "for w in ext:\n",
    "    frequency[w] = frequency.get(w, 0) + 1\n",
    "\n",
    "extcount = {k: v for k, v in sorted(frequency.items(), key=lambda item: item[1], reverse=True)}\n",
    "extcount = [print(v,k) for k, v in extcount.items()]"
   ]
  },
  {
   "cell_type": "code",
   "execution_count": null,
   "metadata": {},
   "outputs": [],
   "source": [
    "import os\n",
    "\n",
    "path = '.'\n",
    "\n",
    "folders = []\n",
    "\n",
    "# r=root, d=directories, f = files\n",
    "for r, d, f in os.walk(path):\n",
    "    for folder in d:\n",
    "        folders.append(os.path.join(r, folder))\n",
    "\n",
    "for f in folders:\n",
    "    print(f)"
   ]
  },
  {
   "cell_type": "code",
   "execution_count": null,
   "metadata": {},
   "outputs": [],
   "source": [
    "import os\n",
    "\n",
    "path = '.'\n",
    "\n",
    "files = []\n",
    "# r=root, d=directories, f = files\n",
    "for r, d, f in os.walk(path):\n",
    "    for file in f:\n",
    "        if '.txt' in file:\n",
    "            files.append(os.path.join(r, file))\n",
    "\n",
    "for f in files:\n",
    "    print(f)"
   ]
  },
  {
   "cell_type": "code",
   "execution_count": null,
   "metadata": {},
   "outputs": [],
   "source": [
    "import os\n",
    "\n",
    "path = '.'\n",
    "\n",
    "files = []\n",
    "# r=root, d=directories, f = files\n",
    "for r, d, f in os.walk(path):\n",
    "    for file in f:\n",
    "        files.append(os.path.join(r, file))\n",
    "\n",
    "for f in files:\n",
    "    print(f)"
   ]
  },
  {
   "cell_type": "code",
   "execution_count": null,
   "metadata": {},
   "outputs": [],
   "source": [
    "import os\n",
    "\n",
    "path = '.'\n",
    "\n",
    "files = []\n",
    "# r=root, d=directories, f = files\n",
    "for r, d, f in os.walk(path):\n",
    "    for file in f:\n",
    "        print(os.path.join(r, file))\n",
    "\n",
    "# for f in files:\n",
    "#     print(f)"
   ]
  },
  {
   "cell_type": "code",
   "execution_count": null,
   "metadata": {},
   "outputs": [],
   "source": [
    "for root, directories, files in os.walk(path):\n",
    "\tfor name in files:\n",
    "\t\tprint(os.path.join(root, name))\n",
    "\t# for name in directories:\n",
    "\t# \tprint(os.path.join(root, name))"
   ]
  },
  {
   "cell_type": "code",
   "execution_count": null,
   "metadata": {},
   "outputs": [],
   "source": [
    "import os\n",
    " \n",
    "for f in os.listdir('.'):\n",
    "\tprint(f)"
   ]
  },
  {
   "cell_type": "code",
   "execution_count": 73,
   "metadata": {},
   "outputs": [
    {
     "output_type": "stream",
     "name": "stdout",
     "text": [
      "23\t2020-10-10 13:42:09.924944\ta.csv\n15100\t2020-10-10 09:43:20.155690\tproblem83-95.ipynb\n6148\t2020-10-01 22:16:49.251208\t.DS_Store\n710\t2020-10-10 22:27:00.410322\tproblem61-70.ipynb\n54\t2020-10-10 17:12:53.197784\tadd.py\n76\t2020-10-10 09:29:56.484332\treverse.py\n6374\t2020-10-10 21:52:36.105096\tproblem01-10.ipynb\n44\t2020-10-11 02:43:23.904902\timportant\n269\t2020-10-10 21:08:02.603619\tgrep.py\n12134\t2020-10-10 14:57:30.825928\tproblem31-42.ipynb\n23705\t2020-10-11 21:25:19.898937\tproblem43-60.ipynb\n270527\t2020-10-10 09:23:40.235389\tpython-practice-book.pdf\n42980\t2020-10-11 18:27:12.962718\tOtherTip.ipynb\n40\t2020-10-10 14:33:36.889919\ta.txt\n676\t2020-10-10 21:33:50.990235\textcount.py\n5667\t2020-10-01 14:15:08.763332\tproblem11-20.ipynb\n128\t2020-10-01 14:05:14.694814\t.ipynb_checkpoints\n176\t2020-10-07 15:44:43.996693\tshe.txt\n399\t2020-10-07 20:16:47.698118\twordwrap.py\n42980\t2020-10-11 18:26:33.152038\tproblem71-82.ipynb\n248\t2020-10-07 16:51:29.366188\twrap.py\n64\t2020-10-01 21:56:35.792520\techo.py\n15766\t2020-10-10 09:41:57.460570\tproblem21-30.ipynb\n113\t2020-10-07 20:26:34.095948\tcenter_align.py\n"
     ]
    }
   ],
   "source": [
    "# Problem 60: Write a program to list all the files in the given directory along with their length and last modification time. The output should contain one line for each file containing filename, length and modification date separated by tabs. Hint: see help for os.stat.\n",
    "\n",
    "import datetime\n",
    "import os\n",
    "\n",
    "my_path='.'\n",
    "\n",
    "for item in os.scandir(my_path):\n",
    "     print('\\t'.join(str(e) for e in [item.stat().st_size, datetime.datetime.fromtimestamp(item.stat().st_atime),item.name]))"
   ]
  },
  {
   "cell_type": "code",
   "execution_count": null,
   "metadata": {},
   "outputs": [],
   "source": []
  }
 ]
}