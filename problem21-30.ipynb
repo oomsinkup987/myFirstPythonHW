{
 "metadata": {
  "language_info": {
   "codemirror_mode": {
    "name": "ipython",
    "version": 3
   },
   "file_extension": ".py",
   "mimetype": "text/x-python",
   "name": "python",
   "nbconvert_exporter": "python",
   "pygments_lexer": "ipython3",
   "version": "3.6.8-final"
  },
  "orig_nbformat": 2,
  "kernelspec": {
   "name": "Python 3.6.8 64-bit",
   "display_name": "Python 3.6.8 64-bit",
   "metadata": {
    "interpreter": {
     "hash": "05ece30799c2dcdac4c13b3af20453da19de8df0d9a1de52cff7e0b6e1e82bdd"
    }
   }
  }
 },
 "nbformat": 4,
 "nbformat_minor": 2,
 "cells": [
  {
   "cell_type": "code",
   "execution_count": 10,
   "metadata": {},
   "outputs": [
    {
     "output_type": "execute_result",
     "data": {
      "text/plain": "6"
     },
     "metadata": {},
     "execution_count": 10
    }
   ],
   "source": [
    "# 21\n",
    "# Problem 21: Python has a built-in function sum to find sum of all elements of a list. Provide an implementation for sum.\n",
    "\n",
    "sum([1, 2, 3])"
   ]
  },
  {
   "cell_type": "code",
   "execution_count": 5,
   "metadata": {},
   "outputs": [],
   "source": [
    "# 22\n",
    "# Problem 22: What happens when the above sum function is called with a list of strings? Can you make your sum function work for a list of strings as well.\n",
    "\n",
    "from functools import reduce\n",
    "from operator import add\n",
    "\n",
    "def mySum(inList):\n",
    "    return reduce(add,inList)"
   ]
  },
  {
   "cell_type": "code",
   "execution_count": 6,
   "metadata": {},
   "outputs": [
    {
     "output_type": "execute_result",
     "data": {
      "text/plain": [
       "'helloworld'"
      ]
     },
     "metadata": {},
     "execution_count": 6
    }
   ],
   "source": [
    "mySum([\"hello\", \"world\"])"
   ]
  },
  {
   "cell_type": "code",
   "execution_count": 7,
   "metadata": {},
   "outputs": [
    {
     "output_type": "execute_result",
     "data": {
      "text/plain": [
       "'aabbcc'"
      ]
     },
     "metadata": {},
     "execution_count": 7
    }
   ],
   "source": [
    "mySum([\"aa\", \"bb\", \"cc\"])"
   ]
  },
  {
   "cell_type": "code",
   "execution_count": 9,
   "metadata": {
    "tags": []
   },
   "outputs": [
    {
     "output_type": "execute_result",
     "data": {
      "text/plain": [
       "'2323adsff454'"
      ]
     },
     "metadata": {},
     "execution_count": 9
    }
   ],
   "source": [
    "# 22\n",
    "# Problem 22: What happens when the above sum function is called with a list of strings? Can you make your sum function work for a list of strings as well.\n",
    "\n",
    "def mySum(inList):\n",
    "    result = inList[0]\n",
    "    for e in range(1,len(inList)):\n",
    "        result += inList[e]\n",
    "    return result\n",
    "\n",
    "mySum(['23','23','adsff','454'])\n"
   ]
  },
  {
   "cell_type": "code",
   "execution_count": 34,
   "metadata": {},
   "outputs": [
    {
     "output_type": "execute_result",
     "data": {
      "text/plain": "'AA23'"
     },
     "metadata": {},
     "execution_count": 34
    }
   ],
   "source": [
    "# 22\n",
    "# Problem 22: What happens when the above sum function is called with a list of strings? Can you make your sum function work for a list of strings as well.\n",
    "\n",
    "def sum(l):\n",
    "    return l[0]+l[1]\n",
    "\n",
    "sum(['AA','23'])\n"
   ]
  },
  {
   "cell_type": "code",
   "execution_count": 15,
   "metadata": {},
   "outputs": [
    {
     "output_type": "execute_result",
     "data": {
      "text/plain": [
       "6"
      ]
     },
     "metadata": {},
     "execution_count": 15
    }
   ],
   "source": [
    "# 23\n",
    "# Problem 23: Implement a function product, to compute product of a list of numbers.\n",
    "\n",
    "\n",
    "def product(inList):\n",
    "    result = inList[0]\n",
    "    for e in range(1,len(inList)):\n",
    "        result *= inList[e]\n",
    "    return result\n",
    "\n",
    "product([1,2,3])"
   ]
  },
  {
   "cell_type": "code",
   "execution_count": 13,
   "metadata": {},
   "outputs": [
    {
     "output_type": "execute_result",
     "data": {
      "text/plain": [
       "6"
      ]
     },
     "metadata": {},
     "execution_count": 13
    }
   ],
   "source": [
    "# 23\n",
    "# Problem 23: Implement a function product, to compute product of a list of numbers.\n",
    "\n",
    "\n",
    "from functools import reduce\n",
    "from operator import mul\n",
    "\n",
    "def myProduct(inList):\n",
    "    return reduce(mul,inList)\n",
    "\n",
    "myProduct([1,2,3])"
   ]
  },
  {
   "cell_type": "code",
   "execution_count": 18,
   "metadata": {},
   "outputs": [
    {
     "output_type": "execute_result",
     "data": {
      "text/plain": [
       "6"
      ]
     },
     "metadata": {},
     "execution_count": 18
    }
   ],
   "source": [
    "# 23\n",
    "# Problem 23: Implement a function product, to compute product of a list of numbers.\n",
    "\n",
    "def myReduce(fn, seq):\n",
    "    x = seq.pop(0)\n",
    "    for e in seq:\n",
    "        x = fn(x, e)\n",
    "    return x\n",
    "\n",
    "import operator\n",
    "\n",
    "def myProduct(inList):\n",
    "    return myReduce(operator.mul,inList)\n",
    "\n",
    "def mySum(inList):\n",
    "    return myReduce(operator.add,inList)\n",
    "\n",
    "myProduct([1,2,3])"
   ]
  },
  {
   "cell_type": "code",
   "execution_count": 20,
   "metadata": {},
   "outputs": [
    {
     "output_type": "execute_result",
     "data": {
      "text/plain": [
       "24"
      ]
     },
     "metadata": {},
     "execution_count": 20
    }
   ],
   "source": [
    "# 24\n",
    "# Problem 24: Write a function factorial to compute factorial of a number. Can you use the product function defined in the previous example to compute factorial?\n",
    "\n",
    "def factorial(x):\n",
    "    return myProduct(list(range(1,x+1)))\n",
    "\n",
    "factorial(4)"
   ]
  },
  {
   "cell_type": "code",
   "execution_count": 27,
   "metadata": {
    "tags": []
   },
   "outputs": [
    {
     "output_type": "stream",
     "name": "stdout",
     "text": "[1, 2, 3, 4, 5]\n"
    },
    {
     "output_type": "execute_result",
     "data": {
      "text/plain": "120"
     },
     "metadata": {},
     "execution_count": 27
    }
   ],
   "source": [
    "factorial(5)"
   ]
  },
  {
   "cell_type": "code",
   "execution_count": 63,
   "metadata": {
    "tags": []
   },
   "outputs": [
    {
     "output_type": "stream",
     "name": "stdout",
     "text": "3\n2\n1\n0\n"
    },
    {
     "output_type": "execute_result",
     "data": {
      "text/plain": "[4, 3, 2, 1]"
     },
     "metadata": {},
     "execution_count": 63
    }
   ],
   "source": [
    "# 25\n",
    "# Problem 25: Write a function reverse to reverse a list. Can you do this without using list slicing?\n",
    "\n",
    "# def reverse(x):\n",
    "#     return x[::-1]\n",
    "\n",
    "def reverse(x):\n",
    "    l = list()\n",
    "    n = len(x)\n",
    "    for i in range(n):\n",
    "        l.append(x[n-i-1])\n",
    "    return l\n",
    "\n",
    "reverse([1, 2, 3, 4])"
   ]
  },
  {
   "cell_type": "code",
   "execution_count": 51,
   "metadata": {},
   "outputs": [
    {
     "output_type": "execute_result",
     "data": {
      "text/plain": "[1, 2, 3, 4]"
     },
     "metadata": {},
     "execution_count": 51
    }
   ],
   "source": [
    "reverse(reverse([1, 2, 3, 4]))"
   ]
  },
  {
   "cell_type": "code",
   "execution_count": 62,
   "metadata": {},
   "outputs": [
    {
     "output_type": "execute_result",
     "data": {
      "text/plain": "&#39;a&#39;"
     },
     "metadata": {},
     "execution_count": 62
    }
   ],
   "source": [
    "# 26\n",
    "# Problem 26: Python has built-in functions min and max to compute minimum and maximum of a given list. Provide an implementation for these functions. What happens when you call your min and max functions with a list of strings?\n",
    "\n",
    "def myReduce(fn, seq):\n",
    "    x = seq.pop(0)\n",
    "    for e in seq:\n",
    "        x = fn(x, e)\n",
    "    return x\n",
    "\n",
    "def myMin(l): return myReduce(lambda x,y: x if x < y else y,l)\n",
    "def myMax(l): return myReduce(lambda x,y: x if x > y else y,l)\n",
    "\n",
    "myMin(['a','b','c','d'])"
   ]
  },
  {
   "cell_type": "code",
   "execution_count": 60,
   "metadata": {},
   "outputs": [
    {
     "output_type": "execute_result",
     "data": {
      "text/plain": "5"
     },
     "metadata": {},
     "execution_count": 60
    }
   ],
   "source": [
    "def myMin(inList):\n",
    "    myMin = inList.pop(0)\n",
    "    for e in inList:\n",
    "        if e < myMin :\n",
    "            myMin = e\n",
    "    return myMin\n",
    "\n",
    "myMin([11,12,5])"
   ]
  },
  {
   "cell_type": "code",
   "execution_count": 29,
   "metadata": {},
   "outputs": [
    {
     "output_type": "execute_result",
     "data": {
      "text/plain": "15"
     },
     "metadata": {},
     "execution_count": 29
    }
   ],
   "source": [
    "def myMax(s):\n",
    "    x = s.pop(0)\n",
    "    for e in s:\n",
    "        if e > x : x = e\n",
    "    return x\n",
    "\n",
    "myMax([11,12,15])"
   ]
  },
  {
   "cell_type": "code",
   "execution_count": 20,
   "metadata": {},
   "outputs": [
    {
     "output_type": "execute_result",
     "data": {
      "text/plain": "5"
     },
     "metadata": {},
     "execution_count": 20
    }
   ],
   "source": [
    "from functools import reduce\n",
    "\n",
    "def myMax(l):\n",
    "    return reduce(lambda x,y: x if x > y else y,l)\n",
    "\n",
    "myMax([1,2,5])"
   ]
  },
  {
   "cell_type": "code",
   "execution_count": 105,
   "metadata": {
    "tags": []
   },
   "outputs": [
    {
     "output_type": "execute_result",
     "data": {
      "text/plain": "55"
     },
     "metadata": {},
     "execution_count": 105
    }
   ],
   "source": [
    "def r(f, s):\n",
    "    x = s.pop(0)\n",
    "    for e in s:\n",
    "        x = f(x, e)\n",
    "    return x\n",
    "\n",
    "r(lambda x,y:x+y,list(range(1,11)))"
   ]
  },
  {
   "cell_type": "code",
   "execution_count": 107,
   "metadata": {
    "tags": []
   },
   "outputs": [
    {
     "output_type": "execute_result",
     "data": {
      "text/plain": "55"
     },
     "metadata": {},
     "execution_count": 107
    }
   ],
   "source": [
    "\n",
    "\n",
    "def r(function, sequence):\n",
    "    it = iter(sequence)\n",
    "    value = next(it)\n",
    "\n",
    "    for element in it:\n",
    "        value = function(value, element)\n",
    "\n",
    "    return value\n",
    "\n",
    "r(lambda x,y:x+y,range(1,11))"
   ]
  },
  {
   "cell_type": "code",
   "execution_count": 13,
   "metadata": {
    "tags": []
   },
   "outputs": [
    {
     "output_type": "execute_result",
     "data": {
      "text/plain": "[1, 3, 6, 10]"
     },
     "metadata": {},
     "execution_count": 13
    }
   ],
   "source": [
    "# 26\n",
    "# Problem 26: Python has built-in functions min and max to compute minimum and maximum of a given list. Provide an implementation for these functions. What happens when you call your min and max functions with a list of strings?\n",
    "\n",
    "\n",
    "def cumulative_sum(l):\n",
    "    r = [l[0]]\n",
    "    for e in range(1,len(l)):\n",
    "        r += [l[e]+r[e-1]]\n",
    "    return r\n",
    "\n",
    "cumulative_sum([1,2,3,4])"
   ]
  },
  {
   "cell_type": "code",
   "execution_count": 64,
   "metadata": {},
   "outputs": [
    {
     "output_type": "execute_result",
     "data": {
      "text/plain": "[1, 3, 6, 10]"
     },
     "metadata": {},
     "execution_count": 64
    }
   ],
   "source": [
    "# 27\n",
    "# Problem 27: Cumulative sum of a list [a, b, c, ...] is defined as [a, a+b, a+b+c, ...]. Write a function cumulative_sum to compute cumulative sum of a list. Does your implementation work for a list of strings?\n",
    "\n",
    "def cumulative_sum(inList):\n",
    "    newList = [inList[0]]\n",
    "    for e in range(1,len(inList)):\n",
    "        newList += [inList[e]+newList[e-1]]\n",
    "    return newList\n",
    "\n",
    "cumulative_sum([1,2,3,4])"
   ]
  },
  {
   "cell_type": "code",
   "execution_count": 14,
   "metadata": {},
   "outputs": [
    {
     "output_type": "execute_result",
     "data": {
      "text/plain": "[1, 2, 6, 24]"
     },
     "metadata": {},
     "execution_count": 14
    }
   ],
   "source": [
    "# 28\n",
    "# Problem 28: Write a function cumulative_product to compute cumulative \n",
    "\n",
    "def cumulative_product(l):\n",
    "    r = [l[0]]\n",
    "    for e in range(1,len(l)):\n",
    "        r += [l[e]*r[e-1]]\n",
    "    return r\n",
    "\n",
    "cumulative_product([1,2,3,4])"
   ]
  },
  {
   "cell_type": "code",
   "execution_count": 2,
   "metadata": {},
   "outputs": [
    {
     "output_type": "execute_result",
     "data": {
      "text/plain": [
       "[1, 3, 2, 5]"
      ]
     },
     "metadata": {},
     "execution_count": 2
    }
   ],
   "source": [
    "# Problem 29: Write a function unique to find all the unique elements of a list.\n",
    "\n",
    "def unique(l):\n",
    "    res = []\n",
    "    for e in range(len(l)):\n",
    "        check = False\n",
    "        for i in range(e+1,len(l)):\n",
    "            if l[e] == l[i]:\n",
    "                check = True\n",
    "                break\n",
    "        if check == False :\n",
    "            res += [l[e]]\n",
    "    return res\n",
    "\n",
    "\n",
    "unique([1, 2, 1, 3, 2, 5])\n",
    "\n"
   ]
  },
  {
   "cell_type": "code",
   "execution_count": 1,
   "metadata": {
    "tags": []
   },
   "outputs": [
    {
     "output_type": "execute_result",
     "data": {
      "text/plain": [
       "[1, 2, 3, 5]"
      ]
     },
     "metadata": {},
     "execution_count": 1
    }
   ],
   "source": [
    "# Problem 29: Write a function unique to find all the unique elements of a list.\n",
    "\n",
    "def unique(l):\n",
    "    res = [l.pop(0)]\n",
    "    while l != []:\n",
    "        while res[-1] in l :\n",
    "            l.remove(res[-1])\n",
    "        res += [l.pop(0)]\n",
    "    return res\n",
    "\n",
    "unique([1, 2, 1, 3, 2, 5])"
   ]
  },
  {
   "cell_type": "code",
   "execution_count": 4,
   "metadata": {},
   "outputs": [
    {
     "output_type": "stream",
     "name": "stdout",
     "text": [
      "[2]\n[1, 1, 3, 2, 5]\n"
     ]
    }
   ],
   "source": [
    "l = [1, 2, 1, 3, 2, 5]\n",
    "res = [l.pop(1)]\n",
    "print(res)\n",
    "print(l)"
   ]
  },
  {
   "cell_type": "code",
   "execution_count": 45,
   "metadata": {},
   "outputs": [
    {
     "output_type": "execute_result",
     "data": {
      "text/plain": "[1, 2]"
     },
     "metadata": {},
     "execution_count": 45
    }
   ],
   "source": [
    "# Problem 30: Write a function dups to find all duplicates in the list.\n",
    "\n",
    "def dups(l):\n",
    "    res = []\n",
    "    for e in range(len(l)):\n",
    "        for i in range(e+1,len(l)):\n",
    "            if l[e] == l[i]:\n",
    "                res += [l[e]]\n",
    "    return res\n",
    "\n",
    "\n",
    "dups([1, 2, 1, 3, 2, 5])"
   ]
  },
  {
   "cell_type": "code",
   "execution_count": 52,
   "metadata": {},
   "outputs": [
    {
     "output_type": "execute_result",
     "data": {
      "text/plain": "[1]"
     },
     "metadata": {},
     "execution_count": 52
    }
   ],
   "source": [
    "l = [1, 2, 1, 3, 2, 5]\n",
    "res = [l.pop(0)]\n",
    "res"
   ]
  },
  {
   "cell_type": "code",
   "execution_count": null,
   "metadata": {},
   "outputs": [],
   "source": []
  }
 ]
}